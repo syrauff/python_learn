{
 "cells": [
  {
   "cell_type": "code",
   "execution_count": 3,
   "id": "043c61c4-5f01-443b-8355-51d044cbf77a",
   "metadata": {},
   "outputs": [
    {
     "data": {
      "text/plain": [
       "{'Mercury': 'e',\n",
       " 'Venus': 'e',\n",
       " 'Earth': 'a',\n",
       " 'Mars': 'a',\n",
       " 'Jupiter': 'u',\n",
       " 'Saturn': 'a',\n",
       " 'Uranus': 'r',\n",
       " 'Neptune': 'e'}"
      ]
     },
     "execution_count": 3,
     "metadata": {},
     "output_type": "execute_result"
    }
   ],
   "source": [
    "planets = ['Mercury', 'Venus', 'Earth', 'Mars', 'Jupiter', 'Saturn', 'Uranus', 'Neptune']\n",
    "planet_to_initial = {planet: planet[1] for planet in planets}\n",
    "planet_to_initial"
   ]
  },
  {
   "cell_type": "code",
   "execution_count": null,
   "id": "951ad6fe-7472-43dd-b66a-449fc4105748",
   "metadata": {},
   "outputs": [],
   "source": []
  }
 ],
 "metadata": {
  "kernelspec": {
   "display_name": "Python 3 (ipykernel)",
   "language": "python",
   "name": "python3"
  },
  "language_info": {
   "codemirror_mode": {
    "name": "ipython",
    "version": 3
   },
   "file_extension": ".py",
   "mimetype": "text/x-python",
   "name": "python",
   "nbconvert_exporter": "python",
   "pygments_lexer": "ipython3",
   "version": "3.12.5"
  }
 },
 "nbformat": 4,
 "nbformat_minor": 5
}
