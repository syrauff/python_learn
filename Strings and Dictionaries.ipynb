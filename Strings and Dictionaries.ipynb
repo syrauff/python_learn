{
 "cells": [
  {
   "cell_type": "code",
   "execution_count": 3,
   "id": "043c61c4-5f01-443b-8355-51d044cbf77a",
   "metadata": {},
   "outputs": [
    {
     "data": {
      "text/plain": [
       "{'Mercury': 'e',\n",
       " 'Venus': 'e',\n",
       " 'Earth': 'a',\n",
       " 'Mars': 'a',\n",
       " 'Jupiter': 'u',\n",
       " 'Saturn': 'a',\n",
       " 'Uranus': 'r',\n",
       " 'Neptune': 'e'}"
      ]
     },
     "execution_count": 3,
     "metadata": {},
     "output_type": "execute_result"
    }
   ],
   "source": [
    "planets = ['Mercury', 'Venus', 'Earth', 'Mars', 'Jupiter', 'Saturn', 'Uranus', 'Neptune']\n",
    "planet_to_initial = {planet: planet[1] for planet in planets}\n",
    "planet_to_initial"
   ]
  },
  {
   "cell_type": "code",
   "execution_count": null,
   "id": "951ad6fe-7472-43dd-b66a-449fc4105748",
   "metadata": {},
   "outputs": [],
   "source": [
    "def is_valid_zip(zip_code):\n",
    "    return len(zip_code) == 5  and zip_code.isdigit()\n",
    "\n",
    "# Check your answer\n",
    "q1.check()"
   ]
  },
  {
   "cell_type": "code",
   "execution_count": null,
   "id": "8b2dad29-05cb-432f-8bdd-3cec9e85170d",
   "metadata": {},
   "outputs": [],
   "source": [
    "def word_search(doc_list, keyword):\n",
    "    # list to hold the indices of matching documents\n",
    "    indices = [] \n",
    "    # Iterate through the indices (i) and elements (doc) of documents\n",
    "    for i, doc in enumerate(doc_list):\n",
    "        # Split the string doc into a list of words (according to whitespace)\n",
    "        tokens = doc.split()\n",
    "        # Make a transformed list where we 'normalize' each word to facilitate matching.\n",
    "        # Periods and commas are removed from the end of each word, and it's set to all lowercase.\n",
    "        normalized = [token.rstrip('.,').lower() for token in tokens]\n",
    "        # Is there a match? If so, update the list of matching indices.\n",
    "        if keyword.lower() in normalized:\n",
    "            indices.append(i)\n",
    "    return indices"
   ]
  },
  {
   "cell_type": "code",
   "execution_count": null,
   "id": "c51a3078-72fe-4503-84ac-e07b8b23a313",
   "metadata": {},
   "outputs": [],
   "source": [
    "def multi_word_search(doc_list, keywords):\n",
    "   \n",
    "    keyword_to_indices = {}\n",
    "    for keyword in keywords:\n",
    "        # Replace 'documents' with 'doc_list'\n",
    "        keyword_to_indices[keyword] = word_search(doc_list, keyword)\n",
    "    return keyword_to_indices\n",
    "q3.check()"
   ]
  }
 ],
 "metadata": {
  "kernelspec": {
   "display_name": "Python 3 (ipykernel)",
   "language": "python",
   "name": "python3"
  },
  "language_info": {
   "codemirror_mode": {
    "name": "ipython",
    "version": 3
   },
   "file_extension": ".py",
   "mimetype": "text/x-python",
   "name": "python",
   "nbconvert_exporter": "python",
   "pygments_lexer": "ipython3",
   "version": "3.12.5"
  }
 },
 "nbformat": 4,
 "nbformat_minor": 5
}
