{
 "cells": [
  {
   "cell_type": "code",
   "execution_count": null,
   "id": "ad09243b-a6ad-4d1a-a3fd-e90a8c685ac9",
   "metadata": {},
   "outputs": [],
   "source": [
    "# Import the jimmy_slots submodule\n",
    "from learntools.python import jimmy_slots\n",
    "# Call the get_graph() function to get Jimmy's graph\n",
    "graph = jimmy_slots.get_graph()\n",
    "graph"
   ]
  },
  {
   "cell_type": "code",
   "execution_count": null,
   "id": "5aa8f13c-d9fe-4d84-9b0e-9d3faf73329e",
   "metadata": {},
   "outputs": [],
   "source": [
    "def best_items(racers):\n",
    "    winner_item_counts = {}\n",
    "    for i in range(len(racers)):\n",
    "        # Mengambil racer ke-i\n",
    "        racer = racers[i]\n",
    "        # Kita hanya tertarik pada racer yang selesai di posisi pertama\n",
    "        if racer['finish'] == 1:\n",
    "            for item in racer['items']:  # Mengganti i dengan item\n",
    "                # Menambah jumlah item (menambah ke dict jika belum ada)\n",
    "                if item not in winner_item_counts:\n",
    "                    winner_item_counts[item] = 0\n",
    "                winner_item_counts[item] += 1\n",
    "\n",
    "        # Kualitas data buruk: Cetak peringatan tentang racer tanpa nama\n",
    "        if racer['name'] is None:\n",
    "            print(\"WARNING: Encountered racer with unknown name on iteration {}/{} (racer = {})\".format(\n",
    "                i+1, len(racers), racer['name'])\n",
    "                 )\n",
    "    return winner_item_counts\n",
    "q2.check()"
   ]
  },
  {
   "cell_type": "code",
   "execution_count": null,
   "id": "e00e1950-dd19-4d62-a311-d1ae4479b658",
   "metadata": {},
   "outputs": [],
   "source": [
    "def blackjack_hand_greater_than(hand_1, hand_2):\n",
    "    def calculate_hand_total(hand):\n",
    "        total = 0\n",
    "        aces = 0\n",
    "        # Iterasi setiap kartu dalam hand\n",
    "        for card in hand:\n",
    "            if card in ['J', 'Q', 'K']:\n",
    "                total += 10\n",
    "            elif card == 'A':\n",
    "                aces += 1\n",
    "            else:\n",
    "                total += int(card)\n",
    "        \n",
    "        # Hitung nilai As\n",
    "        # As bisa dihitung 11 jika total tidak melebihi 21, jika tidak dihitung 1\n",
    "        for _ in range(aces):\n",
    "            if total + 11 <= 21:\n",
    "                total += 11\n",
    "            else:\n",
    "                total += 1\n",
    "                \n",
    "        return total\n",
    "    \n",
    "    # Hitung total untuk kedua hand\n",
    "    total_1 = calculate_hand_total(hand_1)\n",
    "    total_2 = calculate_hand_total(hand_2)\n",
    "    \n",
    "    # Syarat kemenangan\n",
    "    if total_1 > 21:\n",
    "        return False  # hand_1 melebihi 21, otomatis kalah\n",
    "    elif total_2 > 21:\n",
    "        return True  # hand_2 melebihi 21, otomatis hand_1 menang\n",
    "    else:\n",
    "        return total_1 > total_2  # Jika total_1 lebih besar dari total_2\n",
    "\n",
    "# Check your answer\n",
    "q3.check()"
   ]
  }
 ],
 "metadata": {
  "kernelspec": {
   "display_name": "Python 3 (ipykernel)",
   "language": "python",
   "name": "python3"
  },
  "language_info": {
   "codemirror_mode": {
    "name": "ipython",
    "version": 3
   },
   "file_extension": ".py",
   "mimetype": "text/x-python",
   "name": "python",
   "nbconvert_exporter": "python",
   "pygments_lexer": "ipython3",
   "version": "3.12.5"
  }
 },
 "nbformat": 4,
 "nbformat_minor": 5
}
